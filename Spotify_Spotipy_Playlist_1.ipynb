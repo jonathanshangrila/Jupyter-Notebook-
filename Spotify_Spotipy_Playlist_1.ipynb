{
 "cells": [
  {
   "cell_type": "code",
   "execution_count": 1,
   "id": "bfb25894",
   "metadata": {},
   "outputs": [],
   "source": [
    "import spotipy"
   ]
  },
  {
   "cell_type": "code",
   "execution_count": null,
   "id": "4ba44bbb",
   "metadata": {},
   "outputs": [],
   "source": [
    "\"\"\" This imports the 'Spotipy' Spoti(fy)-'Py'(thon) API Application Programming Interface, which imports an entire library of calls and commands written either by a community of Open Source developers or designated Spotify engineers to create plugins and applications or programs that employ the use of or can work with Spotify App, whether Web, iOS, or Android. \"\"\""
   ]
  },
  {
   "cell_type": "code",
   "execution_count": 2,
   "id": "c65418ff",
   "metadata": {},
   "outputs": [],
   "source": [
    "from spotipy.oauth2 import SpotifyClientCredentials"
   ]
  },
  {
   "cell_type": "code",
   "execution_count": null,
   "id": "4bc1fb11",
   "metadata": {},
   "outputs": [],
   "source": [
    "\"\"\" The \"spotipy.oauth2\" is a 'module' in which a library 'SpotifyClientCredentials' is to be imported. When importing at the very top of a program, we either import a library, or a module from a library. Thus, the 'import' command alone, or the 'import' 'from' commands together. \"\"\""
   ]
  },
  {
   "cell_type": "code",
   "execution_count": 3,
   "id": "f5b8fca8",
   "metadata": {},
   "outputs": [],
   "source": [
    "lz_uri = 'spotify:artist:36QJpDe2go2KgaRleHCDTp'"
   ]
  },
  {
   "cell_type": "markdown",
   "id": "2580bd47",
   "metadata": {},
   "source": [
    "Every Spotify verified artist has a URI number that identifies the artist or group. Through this URI, the artist can be linked via a hyperlink right to his, her, or the group page on the Web App, Desktop App, iOS App, or Android App. The URI is a combination of alphanumeric letters and numbers. In this example, we are redirected to a page with Led Zeppelin titles as an example. \n",
    "\n",
    "The variable 'lz_uri' can be assigned to the String value 'spotify:artist:36QJpDe2go2KgaRleHCDTp'\n"
   ]
  },
  {
   "cell_type": "code",
   "execution_count": 11,
   "id": "d6900059",
   "metadata": {},
   "outputs": [],
   "source": [
    "spotify = spotipy.Spotify(auth_manager=SpotifyClientCredentials(client_id=\"2d654f4b2613491fa490239c10426f0a\", client_secret=\"f876b42b91a24ecf89418a5cefea0a09\"))"
   ]
  },
  {
   "cell_type": "markdown",
   "id": "cbc56672",
   "metadata": {},
   "source": [
    "At this point, since the 'SpotifyClientCredentials' module and library have been imported, we can now access a Spotify client and music listener's streaming and listening data.\n",
    "\n",
    "client_id can be found from a music listener's settings.\n",
    "\n",
    "client_secret is more private data that allows further private listening information to be gathered, only with permission."
   ]
  },
  {
   "cell_type": "code",
   "execution_count": 5,
   "id": "e591c44e",
   "metadata": {},
   "outputs": [],
   "source": [
    "## spotify = spotipy.Spotify(client_credentials_manager=SpotifyClientCredentials())"
   ]
  },
  {
   "cell_type": "code",
   "execution_count": 6,
   "id": "40d58d66",
   "metadata": {},
   "outputs": [],
   "source": [
    "results = spotify.artist_top_tracks(lz_uri)"
   ]
  },
  {
   "cell_type": "markdown",
   "id": "90f74de8",
   "metadata": {},
   "source": [
    "Here, a streamer's top tracks can be listed on the console or screen a 'method' or 'function' within the spotify object class.\n",
    "\n",
    "The spotify. period or decimal indicates that a function or method within that object or class has been accessed to perform a certain task or arithmetic, data processing.\n",
    "\n",
    "lz_uri is a String value containing the artist's URI, a String value passed or sent into the function which is then assigned to 'results'."
   ]
  },
  {
   "cell_type": "code",
   "execution_count": 10,
   "id": "671ac699",
   "metadata": {},
   "outputs": [
    {
     "name": "stdout",
     "output_type": "stream",
     "text": [
      "track    : Stairway to Heaven - Remaster\n",
      "audio    : https://p.scdn.co/mp3-preview/d65345613e6e9d2b09816783b9c79793f9175a41?cid=2d654f4b2613491fa490239c10426f0a\n",
      "cover art: https://i.scdn.co/image/ab67616d0000b273c8a11e48c91a982d086afc69\n",
      "\n",
      "track    : Immigrant Song - Remaster\n",
      "audio    : https://p.scdn.co/mp3-preview/3af933bd6e5559e983030f2de1f7576f3da1a48c?cid=2d654f4b2613491fa490239c10426f0a\n",
      "cover art: https://i.scdn.co/image/ab67616d0000b27390a50cfe99a4c19ff3cbfbdb\n",
      "\n",
      "track    : Whole Lotta Love - 1990 Remaster\n",
      "audio    : https://p.scdn.co/mp3-preview/428a1ee59dbf49529f4c12dfc63d01158cca60f1?cid=2d654f4b2613491fa490239c10426f0a\n",
      "cover art: https://i.scdn.co/image/ab67616d0000b273fc4f17340773c6c3579fea0d\n",
      "\n",
      "track    : Black Dog - Remaster\n",
      "audio    : https://p.scdn.co/mp3-preview/b2125aa9fe9f3f3a5ce416be2fc7ac9752406a14?cid=2d654f4b2613491fa490239c10426f0a\n",
      "cover art: https://i.scdn.co/image/ab67616d0000b273c8a11e48c91a982d086afc69\n",
      "\n",
      "track    : Rock and Roll - Remaster\n",
      "audio    : https://p.scdn.co/mp3-preview/0ea6eb9ec317f146177424ab82442cd2834b716d?cid=2d654f4b2613491fa490239c10426f0a\n",
      "cover art: https://i.scdn.co/image/ab67616d0000b273c8a11e48c91a982d086afc69\n",
      "\n",
      "track    : Ramble On - 1990 Remaster\n",
      "audio    : https://p.scdn.co/mp3-preview/d1dafc96fb47faa0ee757446480852bd7a1bb1bf?cid=2d654f4b2613491fa490239c10426f0a\n",
      "cover art: https://i.scdn.co/image/ab67616d0000b273fc4f17340773c6c3579fea0d\n",
      "\n",
      "track    : Going to California - Remaster\n",
      "audio    : https://p.scdn.co/mp3-preview/1d7b76d57258681db7c41546249b3ec2f59fa656?cid=2d654f4b2613491fa490239c10426f0a\n",
      "cover art: https://i.scdn.co/image/ab67616d0000b273c8a11e48c91a982d086afc69\n",
      "\n",
      "track    : Good Times Bad Times - 1993 Remaster\n",
      "audio    : https://p.scdn.co/mp3-preview/8589c32378d02c7d27ada81ea2f6f62a41e3bee4?cid=2d654f4b2613491fa490239c10426f0a\n",
      "cover art: https://i.scdn.co/image/ab67616d0000b2736f2f499c1df1f210c9b34b32\n",
      "\n",
      "track    : Kashmir - Remaster\n",
      "audio    : https://p.scdn.co/mp3-preview/194bfdd91780c95335ae10d5d8a61f3a58026eec?cid=2d654f4b2613491fa490239c10426f0a\n",
      "cover art: https://i.scdn.co/image/ab67616d0000b273765b0617b572bdd1dbdc7d8e\n",
      "\n",
      "track    : D'yer Mak'er - Remaster\n",
      "audio    : https://p.scdn.co/mp3-preview/2cf3b99dfa0b69c8e91fa5b58ce9c36ecdde15fd?cid=2d654f4b2613491fa490239c10426f0a\n",
      "cover art: https://i.scdn.co/image/ab67616d0000b2731816adce1d49e35d3ce9a1d1\n",
      "\n"
     ]
    }
   ],
   "source": [
    "for track in results['tracks'][:12]:\n",
    "    print('track    : ' + track['name'])\n",
    "    print('audio    : ' + track['preview_url'])\n",
    "    print('cover art: ' + track['album']['images'][0]['url'])\n",
    "    print()"
   ]
  },
  {
   "cell_type": "markdown",
   "id": "8a102597",
   "metadata": {},
   "source": [
    "This for loop is where the magic begins to happen. For a max total of 10 to 12 tracks, 12 in this example, of the artist or group's top tracks. The top tracks will be printed in text form including the:\n",
    "\n",
    "Title track\n",
    "Audio snippet preview\n",
    "Album or cover art"
   ]
  },
  {
   "cell_type": "code",
   "execution_count": null,
   "id": "1b2e5f68",
   "metadata": {},
   "outputs": [],
   "source": []
  }
 ],
 "metadata": {
  "kernelspec": {
   "display_name": "Python 3 (ipykernel)",
   "language": "python",
   "name": "python3"
  },
  "language_info": {
   "codemirror_mode": {
    "name": "ipython",
    "version": 3
   },
   "file_extension": ".py",
   "mimetype": "text/x-python",
   "name": "python",
   "nbconvert_exporter": "python",
   "pygments_lexer": "ipython3",
   "version": "3.11.1"
  }
 },
 "nbformat": 4,
 "nbformat_minor": 5
}
